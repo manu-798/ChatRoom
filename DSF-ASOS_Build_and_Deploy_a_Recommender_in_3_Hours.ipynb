{
  "cells": [
    {
      "cell_type": "markdown",
      "metadata": {
        "id": "4Jkbwpu7SFn8"
      },
      "source": [
        "# Data Science Festival x ASOS\n",
        "## Build and Deploy a Recommender System in 3 Hours."
      ]
    },
    {
      "cell_type": "markdown",
      "metadata": {
        "id": "gG8GShGeSFoB"
      },
      "source": [
        "# Imports"
      ]
    },
    {
      "cell_type": "code",
      "execution_count": 1,
      "metadata": {
        "id": "mGzUPYY5SFoC"
      },
      "outputs": [],
      "source": [
        "import numpy as np\n",
        "import pandas as pd\n",
        "import tensorflow as tf\n",
        "import os"
      ]
    },
    {
      "cell_type": "markdown",
      "metadata": {
        "id": "MpnFPfX2SFoE"
      },
      "source": [
        "# Import training data"
      ]
    },
    {
      "cell_type": "code",
      "execution_count": 2,
      "metadata": {
        "id": "o_GHz8x_SFoF"
      },
      "outputs": [],
      "source": [
        "train = pd.read_parquet(\"https://raw.githubusercontent.com/ASOS/dsf2020/main/dsf_asos_train_with_alphanumeric_dummy_ids.parquet\")\n",
        "valid = pd.read_parquet(\"https://raw.githubusercontent.com/ASOS/dsf2020/main/dsf_asos_valid_with_alphanumeric_dummy_ids.parquet\")\n",
        "dummy_users = pd.read_csv(\"https://raw.githubusercontent.com/ASOS/dsf2020/main/dsf_asos_dummy_users_with_alphanumeric_dummy_ids.csv\", header=None).values.flatten().astype(str)\n",
        "products = pd.read_csv(\"https://raw.githubusercontent.com/ASOS/dsf2020/main/dsf_asos_productIds.csv\", header=None).values.flatten().astype(int)"
      ]
    },
    {
      "cell_type": "markdown",
      "metadata": {
        "id": "E5q9rg1xSFoG"
      },
      "source": [
        "# The briefest intro to tf"
      ]
    },
    {
      "cell_type": "markdown",
      "metadata": {
        "id": "U6zcThW5SFoH"
      },
      "source": [
        "Tensors"
      ]
    },
    {
      "cell_type": "code",
      "execution_count": 18,
      "metadata": {
        "id": "X_wG2WFnSFoI",
        "outputId": "901257eb-abba-42c2-dd0c-6b1c007d8382",
        "colab": {
          "base_uri": "https://localhost:8080/"
        }
      },
      "outputs": [
        {
          "output_type": "execute_result",
          "data": {
            "text/plain": [
              "<tf.Tensor: shape=(1, 6), dtype=float32, numpy=array([[ 1.,  4.,  9., 16., 25., 36.]], dtype=float32)>"
            ]
          },
          "metadata": {},
          "execution_count": 18
        }
      ],
      "source": [
        "x=tf.constant([[1,2,3,4,5,6]], dtype=tf.float32)\n",
        "tf.math.square(x)"
      ]
    },
    {
      "cell_type": "code",
      "source": [
        "with tf.GradientTape() as tape: \n",
        "  y=tf.math.square(x)\n"
      ],
      "metadata": {
        "id": "n2b7Au9SUEzZ"
      },
      "execution_count": 22,
      "outputs": []
    },
    {
      "cell_type": "code",
      "source": [
        "y"
      ],
      "metadata": {
        "id": "jdXKiZJhV9tv",
        "outputId": "16d1aa9c-bc36-41de-8845-8b5e326ca3b3",
        "colab": {
          "base_uri": "https://localhost:8080/"
        }
      },
      "execution_count": 23,
      "outputs": [
        {
          "output_type": "execute_result",
          "data": {
            "text/plain": [
              "<tf.Tensor: shape=(1, 6), dtype=float32, numpy=array([[ 1.,  4.,  9., 16., 25., 36.]], dtype=float32)>"
            ]
          },
          "metadata": {},
          "execution_count": 23
        }
      ]
    },
    {
      "cell_type": "code",
      "source": [
        "dy=tape.gradient(y,x)"
      ],
      "metadata": {
        "id": "NUVLSNPpVSo3"
      },
      "execution_count": 24,
      "outputs": []
    },
    {
      "cell_type": "code",
      "source": [
        "dy"
      ],
      "metadata": {
        "id": "aWqZj1RYWEN8"
      },
      "execution_count": 25,
      "outputs": []
    },
    {
      "cell_type": "markdown",
      "metadata": {
        "id": "XUzeiTysSFoJ"
      },
      "source": [
        "Gradients"
      ]
    },
    {
      "cell_type": "code",
      "execution_count": 12,
      "metadata": {
        "id": "NZHkErsHSFoJ"
      },
      "outputs": [],
      "source": []
    },
    {
      "cell_type": "markdown",
      "metadata": {
        "id": "I5kvyjlpSFoK"
      },
      "source": [
        "Multiply and add tensors"
      ]
    },
    {
      "cell_type": "code",
      "execution_count": 28,
      "metadata": {
        "id": "x8JHsIHVSFoK"
      },
      "outputs": [],
      "source": [
        "x = tf.constant([[1,2,3]], dtype=tf.float32)\n",
        "Y = tf.constant([[1,2,3, 4], [1,2,3,4], [1,2,3,4]], dtype=tf.float32)"
      ]
    },
    {
      "cell_type": "code",
      "execution_count": 29,
      "metadata": {
        "id": "BFqWpY_mSFoL"
      },
      "outputs": [],
      "source": [
        "z = tf.constant([10, 11, 12, 13], dtype=tf.float32)"
      ]
    },
    {
      "cell_type": "code",
      "execution_count": 30,
      "metadata": {
        "id": "9kZ7FRY8SFoL",
        "outputId": "715d428e-b1ef-4ed6-e486-4fabceb1df13",
        "colab": {
          "base_uri": "https://localhost:8080/"
        }
      },
      "outputs": [
        {
          "output_type": "execute_result",
          "data": {
            "text/plain": [
              "<tf.Tensor: shape=(1, 4), dtype=float32, numpy=array([[16., 23., 30., 37.]], dtype=float32)>"
            ]
          },
          "metadata": {},
          "execution_count": 30
        }
      ],
      "source": [
        "tf.matmul(x,Y) + z"
      ]
    },
    {
      "cell_type": "markdown",
      "metadata": {
        "id": "vHELBqjnSFoL"
      },
      "source": [
        "This operation is very common in deep learning, so it has been abstracted:"
      ]
    },
    {
      "cell_type": "code",
      "execution_count": 31,
      "metadata": {
        "id": "aXjtpuCnSFoL",
        "outputId": "c7c42ec0-7a4a-4170-f6f0-ddd02d8059d3",
        "colab": {
          "base_uri": "https://localhost:8080/"
        }
      },
      "outputs": [
        {
          "output_type": "execute_result",
          "data": {
            "text/plain": [
              "<tf.Tensor: shape=(1, 4), dtype=float32, numpy=array([[16., 23., 30., 37.]], dtype=float32)>"
            ]
          },
          "metadata": {},
          "execution_count": 31
        }
      ],
      "source": [
        "dl1 = tf.keras.layers.Dense(4, use_bias = True, weights = [Y,z])\n",
        "dl1(x)"
      ]
    },
    {
      "cell_type": "markdown",
      "metadata": {
        "id": "wKpo3zRNSFoL"
      },
      "source": [
        "You can choose to apply a function to each value in the output"
      ]
    },
    {
      "cell_type": "code",
      "execution_count": 34,
      "metadata": {
        "id": "wUNB0L69SFoM",
        "outputId": "bdff7887-13b4-4c3c-c49d-81972f03c160",
        "colab": {
          "base_uri": "https://localhost:8080/"
        }
      },
      "outputs": [
        {
          "output_type": "execute_result",
          "data": {
            "text/plain": [
              "<tf.Tensor: shape=(1, 4), dtype=float32, numpy=array([[17., 24., 31., 38.]], dtype=float32)>"
            ]
          },
          "metadata": {},
          "execution_count": 34
        }
      ],
      "source": [
        "dl2 = tf.keras.layers.Dense(4, use_bias = True, weights = [Y,z], activation= lambda x:x+1)\n",
        "dl2(x)"
      ]
    },
    {
      "cell_type": "markdown",
      "metadata": {
        "id": "G7PFXDPiSFoM"
      },
      "source": [
        "We can put different layers together in a sequence:"
      ]
    },
    {
      "cell_type": "code",
      "execution_count": 35,
      "metadata": {
        "id": "Z9SrIc_gSFoM"
      },
      "outputs": [],
      "source": [
        "dl3 = tf.keras.layers.Dense(1, use_bias=False, \\\n",
        "                             weights=[tf.constant([[0], [1], [0], [1]], \\\n",
        "                                                  dtype=tf.float32)])"
      ]
    },
    {
      "cell_type": "code",
      "execution_count": 38,
      "metadata": {
        "id": "1T9QJFHJSFoN",
        "outputId": "3204047e-81e7-4345-ca2d-e5b9a2d90667",
        "colab": {
          "base_uri": "https://localhost:8080/"
        }
      },
      "outputs": [
        {
          "output_type": "execute_result",
          "data": {
            "text/plain": [
              "<tf.Tensor: shape=(1, 1), dtype=float32, numpy=array([[62.]], dtype=float32)>"
            ]
          },
          "metadata": {},
          "execution_count": 38
        }
      ],
      "source": [
        "x_b = dl3(dl2(x))\n",
        "x_b"
      ]
    },
    {
      "cell_type": "markdown",
      "metadata": {
        "id": "xRmdp8pcSFoN"
      },
      "source": [
        "We can get more flexibility if you use tf.keras.model:"
      ]
    },
    {
      "cell_type": "code",
      "execution_count": 40,
      "metadata": {
        "id": "1yeTgZlKSFoN"
      },
      "outputs": [],
      "source": [
        "class simple_model(tf.keras.Model):\n",
        "  def __init__(self):\n",
        "    super(simple_model, self).__init__()\n",
        "    self.dl2 = tf.keras.layers.Dense(4, use_bias = True, weights = [Y,z], activation= lambda x:x+1)\n",
        "    self.dl3 = tf.keras.layers.Dense(1, use_bias=False, \\\n",
        "                             weights=[tf.constant([[0], [1], [0], [1]], \\\n",
        "                                                  dtype=tf.float32)])\n",
        "  def call(self,x):\n",
        "    x_b = self.dl2(x)\n",
        "    return self.dl3(x_b)"
      ]
    },
    {
      "cell_type": "code",
      "source": [
        "en = simple_model()\n",
        "en(x)"
      ],
      "metadata": {
        "id": "U7rhwOzHZb4f",
        "outputId": "8cd2bec6-9b22-469b-a660-9cb474e18ffa",
        "colab": {
          "base_uri": "https://localhost:8080/"
        }
      },
      "execution_count": 41,
      "outputs": [
        {
          "output_type": "execute_result",
          "data": {
            "text/plain": [
              "<tf.Tensor: shape=(1, 1), dtype=float32, numpy=array([[62.]], dtype=float32)>"
            ]
          },
          "metadata": {},
          "execution_count": 41
        }
      ]
    },
    {
      "cell_type": "markdown",
      "metadata": {
        "id": "Vkl0kU8dSFoO"
      },
      "source": [
        "So far we have been setting the weights of the dense layers, but if we don't set the weights than weights get randomly chosen."
      ]
    },
    {
      "cell_type": "code",
      "execution_count": 42,
      "metadata": {
        "id": "s6t5VXYmSFoO",
        "outputId": "e805bfbd-cd27-4c53-e35e-f2e38f23b603",
        "colab": {
          "base_uri": "https://localhost:8080/"
        }
      },
      "outputs": [
        {
          "output_type": "execute_result",
          "data": {
            "text/plain": [
              "<tf.Tensor: shape=(1, 4), dtype=float32, numpy=\n",
              "array([[-3.7222753 , -0.53378916, -0.44897127,  0.8237381 ]],\n",
              "      dtype=float32)>"
            ]
          },
          "metadata": {},
          "execution_count": 42
        }
      ],
      "source": [
        "dl6 = tf.keras.layers.Dense(4, use_bias=True)\n",
        "dl6(x)"
      ]
    },
    {
      "cell_type": "code",
      "execution_count": 43,
      "metadata": {
        "id": "uCcqnqyRSFoO",
        "outputId": "790d27a2-8590-4ff2-eac0-2ef747f5c052",
        "colab": {
          "base_uri": "https://localhost:8080/"
        }
      },
      "outputs": [
        {
          "output_type": "execute_result",
          "data": {
            "text/plain": [
              "[array([[-0.23246998,  0.52457905, -0.26573527,  0.6066973 ],\n",
              "        [-0.7453265 ,  0.7768909 , -0.42890045, -0.5480511 ],\n",
              "        [-0.6663841 , -0.87071663,  0.22485495,  0.43771434]],\n",
              "       dtype=float32), array([0., 0., 0., 0.], dtype=float32)]"
            ]
          },
          "metadata": {},
          "execution_count": 43
        }
      ],
      "source": [
        "dl6.get_weights()"
      ]
    },
    {
      "cell_type": "markdown",
      "metadata": {
        "id": "4Kw8RJx1SFoP"
      },
      "source": [
        "# Define a Recommender Model"
      ]
    },
    {
      "cell_type": "markdown",
      "metadata": {
        "id": "qPPeqWc6SFoP"
      },
      "source": [
        "The embedding layer gives a list of random numbers for each user and each product."
      ]
    },
    {
      "cell_type": "code",
      "execution_count": 44,
      "metadata": {
        "id": "4iAxy6o4SFoP"
      },
      "outputs": [],
      "source": [
        "embed1= tf.keras.layers.Embedding(5,8)"
      ]
    },
    {
      "cell_type": "code",
      "source": [
        "embed1(2)"
      ],
      "metadata": {
        "id": "JFl8aBZkb7R5",
        "outputId": "e176804d-cb20-417d-bc5a-b8632a7152f9",
        "colab": {
          "base_uri": "https://localhost:8080/"
        }
      },
      "execution_count": 45,
      "outputs": [
        {
          "output_type": "execute_result",
          "data": {
            "text/plain": [
              "<tf.Tensor: shape=(8,), dtype=float32, numpy=\n",
              "array([ 0.00769961,  0.00474096,  0.03710094,  0.00821529,  0.01609159,\n",
              "       -0.00968228,  0.02942025, -0.02581803], dtype=float32)>"
            ]
          },
          "metadata": {},
          "execution_count": 45
        }
      ]
    },
    {
      "cell_type": "code",
      "source": [
        "embed1.get_weights()"
      ],
      "metadata": {
        "id": "Y6gYuy_Jb7eB",
        "outputId": "5bcf485e-302d-4962-8673-d7ed568dcfcc",
        "colab": {
          "base_uri": "https://localhost:8080/"
        }
      },
      "execution_count": 46,
      "outputs": [
        {
          "output_type": "execute_result",
          "data": {
            "text/plain": [
              "[array([[ 4.53571789e-02, -7.52891228e-03,  4.00060304e-02,\n",
              "         -3.24027427e-02, -1.74195170e-02, -1.20781064e-02,\n",
              "          4.52122800e-02,  2.79351957e-02],\n",
              "        [ 3.05524729e-02,  6.65962696e-04,  4.91578691e-02,\n",
              "          4.14819233e-02, -3.22631821e-02, -2.41240263e-02,\n",
              "         -3.36087123e-02,  3.94546986e-03],\n",
              "        [ 7.69960880e-03,  4.74096462e-03,  3.71009372e-02,\n",
              "          8.21528584e-03,  1.60915889e-02, -9.68227535e-03,\n",
              "          2.94202454e-02, -2.58180257e-02],\n",
              "        [ 2.36146152e-05, -1.87627226e-03, -4.61183786e-02,\n",
              "          2.49653123e-02, -1.65243372e-02, -1.48584135e-02,\n",
              "         -2.90604960e-02, -4.68560308e-03],\n",
              "        [-4.87407818e-02, -4.37066667e-02, -1.62225142e-02,\n",
              "         -3.05195209e-02,  4.59719785e-02, -1.92519911e-02,\n",
              "         -2.63536703e-02, -3.98528464e-02]], dtype=float32)]"
            ]
          },
          "metadata": {},
          "execution_count": 46
        }
      ]
    },
    {
      "cell_type": "markdown",
      "metadata": {
        "id": "wTquRwN6SFoP"
      },
      "source": [
        "Scores can be found using the dot product."
      ]
    },
    {
      "cell_type": "code",
      "execution_count": 47,
      "metadata": {
        "id": "iZbNwyFOSFoQ"
      },
      "outputs": [],
      "source": [
        "dummy_user_embedding = tf.keras.layers.Embedding(len(dummy_users), 6)\n",
        "product_user_embedding = tf.keras.layers.Embedding(len(products), 6)"
      ]
    },
    {
      "cell_type": "code",
      "source": [
        "tf.tensordot(dummy_user_embedding(1), product_user_embedding(99),axes=[[0],[0]])"
      ],
      "metadata": {
        "id": "qL1pg2zIclUd",
        "outputId": "1deb2343-42dc-4d13-f952-9bcf0eda4a56",
        "colab": {
          "base_uri": "https://localhost:8080/"
        }
      },
      "execution_count": 48,
      "outputs": [
        {
          "output_type": "execute_result",
          "data": {
            "text/plain": [
              "<tf.Tensor: shape=(), dtype=float32, numpy=-0.0019839539>"
            ]
          },
          "metadata": {},
          "execution_count": 48
        }
      ]
    },
    {
      "cell_type": "markdown",
      "metadata": {
        "id": "K3tJrok6SFoQ"
      },
      "source": [
        "We can score multiple products at the same time, which is what we need to create a ranking."
      ]
    },
    {
      "cell_type": "code",
      "execution_count": 49,
      "metadata": {
        "id": "KaLaf0RQSFoQ",
        "outputId": "3f250842-6c1c-44e7-fe73-d7e56de6e3d1",
        "colab": {
          "base_uri": "https://localhost:8080/"
        }
      },
      "outputs": [
        {
          "output_type": "execute_result",
          "data": {
            "text/plain": [
              "<tf.Tensor: shape=(4,), dtype=float32, numpy=array([ 0.00038593, -0.00110699,  0.00023639,  0.00229521], dtype=float32)>"
            ]
          },
          "metadata": {},
          "execution_count": 49
        }
      ],
      "source": [
        "example_product=tf.constant([3,77,104,2062])\n",
        "tf.tensordot(dummy_user_embedding(1),product_user_embedding(example_product), axes=[[0],[1]])"
      ]
    },
    {
      "cell_type": "markdown",
      "metadata": {
        "id": "gMt_gBnKSFoQ"
      },
      "source": [
        "And we can score multiple users for multiple products which we will need to do if we are to train quickly."
      ]
    },
    {
      "cell_type": "code",
      "execution_count": null,
      "metadata": {
        "id": "4ZG3OzrHSFoQ"
      },
      "outputs": [],
      "source": []
    },
    {
      "cell_type": "markdown",
      "metadata": {
        "id": "kLD-9mb7SFoR"
      },
      "source": [
        "But we need to map product ids to embedding ids."
      ]
    },
    {
      "cell_type": "code",
      "execution_count": 51,
      "metadata": {
        "id": "dyT2-mfkSFoR"
      },
      "outputs": [],
      "source": [
        "product_table = tf.lookup.StaticHashTable(\n",
        "    tf.lookup.KeyValueTensorInitializer(tf.constant(products, dtype=tf.int32), \n",
        "                                        range(len(products))), -1)"
      ]
    },
    {
      "cell_type": "code",
      "source": [
        "product_table.lookup(tf.constant([9306139]))"
      ],
      "metadata": {
        "id": "dIhuDe4agwJv",
        "outputId": "8fd1c4e1-83e5-4ddb-c9f1-2c77ebc014b0",
        "colab": {
          "base_uri": "https://localhost:8080/"
        }
      },
      "execution_count": 57,
      "outputs": [
        {
          "output_type": "execute_result",
          "data": {
            "text/plain": [
              "<tf.Tensor: shape=(1,), dtype=int32, numpy=array([1], dtype=int32)>"
            ]
          },
          "metadata": {},
          "execution_count": 57
        }
      ]
    },
    {
      "cell_type": "markdown",
      "metadata": {
        "id": "0vDRreMOSFoR"
      },
      "source": [
        "Let's put those two things together"
      ]
    },
    {
      "cell_type": "code",
      "execution_count": 58,
      "metadata": {
        "id": "A28GEMLSSFoR"
      },
      "outputs": [],
      "source": [
        "class SimpleRecommender(tf.keras.Model):\n",
        "    def __init__(self, dummy_users, products, len_of_embedding):\n",
        "        super(SimpleRecommender, self).__init__()\n",
        "        self.products = tf.constant(products, dtype=tf.int32)\n",
        "        self.dummy_users = tf.constant(dummy_users, dtype=tf.string)\n",
        "        self.dummy_user_table = tf.lookup.StaticHashTable(tf.lookup.KeyValueTensorInitializer(self.dummy_users, range(len(dummy_users))), -1)\n",
        "        self.product_table = tf.lookup.StaticHashTable(tf.lookup.KeyValueTensorInitializer(self.products, range(len(products))), -1)\n",
        "        \n",
        "        self.user_embedding = tf.keras.layers.Embedding(len(dummy_users), len_of_embedding)\n",
        "        self.product_embedding = tf.keras.layers.Embedding(len(products), len_of_embedding)\n",
        "        \n",
        "        self.dot = tf.keras.layers.Dot(axes=-1)\n",
        "    def call(self,inputs):\n",
        "        user = inputs[0]\n",
        "        products = inputs[1]\n",
        "        user_embedding_index = self.dummy_users_table.lookup(user)\n",
        "        product_embedding_index = self.product_table.lookup(products)\n",
        "\n",
        "        user_embedding_values =self.user_embedding(user_embedding_index)\n",
        "        product_embedding_values =self.product_embedding(product_embedding_index)\n",
        "        return self.dot([user_embedding_values,product_embedding_values])\n",
        "    @tf.function\n",
        "    def call_item_item(self, product):\n",
        "        product_x = self.product_table.lookup(product)\n",
        "        pe = tf.expand_dims(self.product_embedding(product_x), 0)\n",
        "        \n",
        "        all_pe = tf.expand_dims(self.product_embedding.embeddings, 0)#note this only works if the layer has been built!\n",
        "        scores = tf.reshape(self.dot([pe, all_pe]), [-1])\n",
        "        \n",
        "        top_scores, top_indices = tf.math.top_k(scores, k=100)\n",
        "        top_ids = tf.gather(self.products, top_indices)\n",
        "        return top_ids, top_scores"
      ]
    },
    {
      "cell_type": "code",
      "source": [
        "srl= SimpleRecommender(dummy_users,products,15)\n",
        "srl([tf.constant([['pmfkU4BNZhmtLgJQwJ7x'], ['UDRRwOlzlWVbu7H8YCCi']])\n",
        "    ,tf.constant([[8650774,  9306139,  9961521],[12058614, 12058615, 11927550]])])"
      ],
      "metadata": {
        "id": "suHbrAhEp1Ol"
      },
      "execution_count": null,
      "outputs": []
    },
    {
      "cell_type": "code",
      "source": [
        "products"
      ],
      "metadata": {
        "id": "OuUDgzCpqF99",
        "outputId": "62b9c852-693b-45c1-80ac-d6e74cb13dd9",
        "colab": {
          "base_uri": "https://localhost:8080/"
        }
      },
      "execution_count": 61,
      "outputs": [
        {
          "output_type": "execute_result",
          "data": {
            "text/plain": [
              "array([ 8650774,  9306139,  9961521, ..., 12058614, 12058615, 11927550])"
            ]
          },
          "metadata": {},
          "execution_count": 61
        }
      ]
    },
    {
      "cell_type": "markdown",
      "metadata": {
        "id": "-mj_3GzrSFoS"
      },
      "source": [
        "# Creating a dataset"
      ]
    },
    {
      "cell_type": "markdown",
      "metadata": {
        "id": "DsYVzi5aSFoS"
      },
      "source": [
        "First create a tf.data.Dataset from the user purchase pairs."
      ]
    },
    {
      "cell_type": "code",
      "execution_count": null,
      "metadata": {
        "id": "lnErntaMSFoS"
      },
      "outputs": [],
      "source": [
        "dummy_user_tensor = tf.constant(train[[\"dummyUserId\"]].values, dtype=tf.string)\n",
        "product_tensor = tf.constant(train[[\"productId\"]].values, dtype=tf.int32)\n",
        "\n",
        "dataset = tf.data.Dataset.from_tensor_slices((dummy_user_tensor, product_tensor))\n",
        "for x, y in dataset:\n",
        "    print(x)\n",
        "    print(y)\n",
        "    break"
      ]
    },
    {
      "cell_type": "markdown",
      "metadata": {
        "id": "qMi-VfH4SFoS"
      },
      "source": [
        "For each purchase let's sample a number of products that the user did not purchase. Then the model can score each of the products and we will know we are doing a good job if the product with the highest score is the product that the user actually purchased.\n",
        "\n",
        "We can do this using dataset.map"
      ]
    },
    {
      "cell_type": "code",
      "execution_count": null,
      "metadata": {
        "id": "lzde53qMSFoT"
      },
      "outputs": [],
      "source": [
        "class Mapper():\n",
        "    \n",
        "    def __init__(self, possible_products, num_negative_products):\n",
        "        self.num_possible_products = len(possible_products)\n",
        "        self.possible_products_tensor = tf.constant(possible_products, dtype=tf.int32)\n",
        "        \n",
        "        self.num_negative_products = num_negative_products\n",
        "    \n",
        "    def __call__(self, user, product):\n",
        "        return user, product"
      ]
    },
    {
      "cell_type": "markdown",
      "metadata": {
        "id": "P4ID1ESWSFoT"
      },
      "source": [
        "Let's bring the steps together to define a function which creates a dataset "
      ]
    },
    {
      "cell_type": "code",
      "execution_count": null,
      "metadata": {
        "id": "B-EBc7j1SFoT"
      },
      "outputs": [],
      "source": [
        "def get_dataset():\n",
        "    pass"
      ]
    },
    {
      "cell_type": "markdown",
      "metadata": {
        "id": "j8YztF8mSFoT"
      },
      "source": [
        "# Train a model"
      ]
    },
    {
      "cell_type": "markdown",
      "metadata": {
        "id": "zJiVTBiWSFoT"
      },
      "source": [
        "We need to compile a model, set the loss and create an evaluation metric. Then we need to train the model."
      ]
    },
    {
      "cell_type": "code",
      "execution_count": null,
      "metadata": {
        "id": "A0A3gFqjSFoU"
      },
      "outputs": [],
      "source": []
    },
    {
      "cell_type": "markdown",
      "metadata": {
        "id": "D7o6u0pJSFoU"
      },
      "source": [
        "Let's do a manual check on whether the model is any good."
      ]
    },
    {
      "cell_type": "code",
      "execution_count": null,
      "metadata": {
        "id": "tz0hiFKkSFoU"
      },
      "outputs": [],
      "source": [
        "test_product = 11698965"
      ]
    },
    {
      "cell_type": "code",
      "execution_count": null,
      "metadata": {
        "id": "3dNQsvdmSFoU"
      },
      "outputs": [],
      "source": [
        "print(\"Recs for item {}: {}\".format(test_product, model.call_item_item(tf.constant(test_product, dtype=tf.int32))))"
      ]
    },
    {
      "cell_type": "markdown",
      "metadata": {
        "id": "J_X9qUXTSFoV"
      },
      "source": [
        "# Save the model"
      ]
    },
    {
      "cell_type": "code",
      "execution_count": null,
      "metadata": {
        "id": "X4cABsgdSFoV"
      },
      "outputs": [],
      "source": [
        "model_path = \"models/recommender/1\""
      ]
    },
    {
      "cell_type": "code",
      "execution_count": null,
      "metadata": {
        "id": "ilqzgjuISFoV"
      },
      "outputs": [],
      "source": [
        "inpute_signature = tf.TensorSpec(shape=(), dtype=tf.int32)"
      ]
    },
    {
      "cell_type": "code",
      "execution_count": null,
      "metadata": {
        "id": "QRc9b3XgSFoV"
      },
      "outputs": [],
      "source": [
        "signatures = { 'call_item_item': r1.call_item_item.get_concrete_function(inpute_signature)}"
      ]
    },
    {
      "cell_type": "code",
      "execution_count": null,
      "metadata": {
        "id": "FBPxngq6SFoV"
      },
      "outputs": [],
      "source": []
    },
    {
      "cell_type": "code",
      "execution_count": null,
      "metadata": {
        "id": "Lxpi0j1vSFoV"
      },
      "outputs": [],
      "source": [
        "imported_model = tf.saved_model.load('models/recommeder/1')\n",
        "list(imported_model.signatures.keys())"
      ]
    },
    {
      "cell_type": "code",
      "execution_count": null,
      "metadata": {
        "id": "UXTFthEaSFoW"
      },
      "outputs": [],
      "source": [
        "imported_model.signatures['call_item_item'](tf.constant([14844847]))"
      ]
    },
    {
      "cell_type": "code",
      "execution_count": null,
      "metadata": {
        "id": "BHCHBDQSSFoW"
      },
      "outputs": [],
      "source": [
        "os.makedirs(\"dummy/0\")\n",
        "tf.saved_model.save(model, 'dummy/0')    \n",
        "imported = tf.saved_model.load(\"dummy/0\")\n",
        "imported(tf.constant([14844847]))"
      ]
    },
    {
      "cell_type": "code",
      "execution_count": null,
      "metadata": {
        "id": "oqOXxkPxSFoW"
      },
      "outputs": [],
      "source": [
        "os.makedirs(\"dummy/1\")\n",
        "tf.saved_model.save(model, 'dummy/1',\n",
        "                    model.call_item_item.get_concrete_function(tf.TensorSpec(shape=(), dtype=tf.int32)))      \n",
        "list(imported_model.signatures.keys())"
      ]
    },
    {
      "cell_type": "code",
      "execution_count": null,
      "metadata": {
        "id": "e6LNNtcbSFoW"
      },
      "outputs": [],
      "source": [
        "imported_model.signatures['serving_default'](tf.constant([14844847]))"
      ]
    },
    {
      "cell_type": "markdown",
      "metadata": {
        "id": "0Wzd10mqSFoW"
      },
      "source": [
        "Zipping the saved model will make it easier to download."
      ]
    },
    {
      "cell_type": "code",
      "execution_count": null,
      "metadata": {
        "id": "8LMG-kzCSFoX"
      },
      "outputs": [],
      "source": [
        "from zipfile import ZipFile\n",
        "import os\n",
        "# create a ZipFile object\n",
        "with ZipFile('recommender.zip', 'w') as zipObj:\n",
        "   # Iterate over all the files in directory\n",
        "    for folderName, subfolders, filenames in os.walk(\"models\"):\n",
        "        for filename in filenames:\n",
        "           #create complete filepath of file in directory\n",
        "           filePath = os.path.join(folderName, filename)\n",
        "           # Add file to zip\n",
        "           zipObj.write(filePath)"
      ]
    },
    {
      "cell_type": "code",
      "execution_count": null,
      "metadata": {
        "id": "2otA5-IvSFoX"
      },
      "outputs": [],
      "source": []
    }
  ],
  "metadata": {
    "kernelspec": {
      "display_name": "Python 3",
      "language": "python",
      "name": "python3"
    },
    "language_info": {
      "codemirror_mode": {
        "name": "ipython",
        "version": 3
      },
      "file_extension": ".py",
      "mimetype": "text/x-python",
      "name": "python",
      "nbconvert_exporter": "python",
      "pygments_lexer": "ipython3",
      "version": "3.7.1"
    },
    "colab": {
      "provenance": []
    }
  },
  "nbformat": 4,
  "nbformat_minor": 0
}